{
 "nbformat": 4,
 "nbformat_minor": 0,
 "metadata": {
  "accelerator": "GPU",
  "colab": {
   "provenance": [
    {
     "file_id": "1YsC_A-ZnfzkM5VzwPnjOOH_N78qfvTnW",
     "timestamp": 1639735178588
    }
   ]
  },
  "kernelspec": {
   "display_name": "Python 3 (ipykernel)",
   "language": "python",
   "name": "python3"
  },
  "language_info": {
   "codemirror_mode": {
    "name": "ipython",
    "version": 3
   },
   "file_extension": ".py",
   "mimetype": "text/x-python",
   "name": "python",
   "nbconvert_exporter": "python",
   "pygments_lexer": "ipython3",
   "version": "3.8.5"
  }
 },
 "cells": [
  {
   "cell_type": "markdown",
   "metadata": {
    "id": "9xEIoJ1xpdVD"
   },
   "source": [
    "## Notebook used for fine-tuning BERT-base on the PMB data\n",
    "\n",
    "The BERT base model is used as a baseline for this project.\n",
    "\n"
   ]
  },
  {
   "cell_type": "code",
   "metadata": {
    "colab": {
     "base_uri": "https://localhost:8080/"
    },
    "id": "XKVrr5U4lOn4",
    "executionInfo": {
     "status": "ok",
     "timestamp": 1675333374969,
     "user_tz": -60,
     "elapsed": 6977,
     "user": {
      "displayName": "F.A. Leistra",
      "userId": "17579912925770168307"
     }
    },
    "outputId": "d593150d-d497-407e-e23f-f987c42872db"
   },
   "source": [
    "\n",
    "!pip install transformers"
   ],
   "execution_count": null,
   "outputs": [
    {
     "output_type": "stream",
     "name": "stdout",
     "text": [
      "Looking in indexes: https://pypi.org/simple, https://us-python.pkg.dev/colab-wheels/public/simple/\n",
      "Requirement already satisfied: transformers in /usr/local/lib/python3.8/dist-packages (4.26.0)\n",
      "Requirement already satisfied: tqdm>=4.27 in /usr/local/lib/python3.8/dist-packages (from transformers) (4.64.1)\n",
      "Requirement already satisfied: huggingface-hub<1.0,>=0.11.0 in /usr/local/lib/python3.8/dist-packages (from transformers) (0.12.0)\n",
      "Requirement already satisfied: requests in /usr/local/lib/python3.8/dist-packages (from transformers) (2.25.1)\n",
      "Requirement already satisfied: numpy>=1.17 in /usr/local/lib/python3.8/dist-packages (from transformers) (1.21.6)\n",
      "Requirement already satisfied: pyyaml>=5.1 in /usr/local/lib/python3.8/dist-packages (from transformers) (6.0)\n",
      "Requirement already satisfied: packaging>=20.0 in /usr/local/lib/python3.8/dist-packages (from transformers) (21.3)\n",
      "Requirement already satisfied: filelock in /usr/local/lib/python3.8/dist-packages (from transformers) (3.9.0)\n",
      "Requirement already satisfied: tokenizers!=0.11.3,<0.14,>=0.11.1 in /usr/local/lib/python3.8/dist-packages (from transformers) (0.13.2)\n",
      "Requirement already satisfied: regex!=2019.12.17 in /usr/local/lib/python3.8/dist-packages (from transformers) (2022.6.2)\n",
      "Requirement already satisfied: typing-extensions>=3.7.4.3 in /usr/local/lib/python3.8/dist-packages (from huggingface-hub<1.0,>=0.11.0->transformers) (4.4.0)\n",
      "Requirement already satisfied: pyparsing!=3.0.5,>=2.0.2 in /usr/local/lib/python3.8/dist-packages (from packaging>=20.0->transformers) (3.0.9)\n",
      "Requirement already satisfied: certifi>=2017.4.17 in /usr/local/lib/python3.8/dist-packages (from requests->transformers) (2022.12.7)\n",
      "Requirement already satisfied: urllib3<1.27,>=1.21.1 in /usr/local/lib/python3.8/dist-packages (from requests->transformers) (1.24.3)\n",
      "Requirement already satisfied: idna<3,>=2.5 in /usr/local/lib/python3.8/dist-packages (from requests->transformers) (2.10)\n",
      "Requirement already satisfied: chardet<5,>=3.0.2 in /usr/local/lib/python3.8/dist-packages (from requests->transformers) (4.0.0)\n"
     ]
    }
   ]
  },
  {
   "cell_type": "code",
   "metadata": {
    "colab": {
     "base_uri": "https://localhost:8080/"
    },
    "id": "ymo-hGggzZt2",
    "executionInfo": {
     "status": "ok",
     "timestamp": 1675333377148,
     "user_tz": -60,
     "elapsed": 2187,
     "user": {
      "displayName": "F.A. Leistra",
      "userId": "17579912925770168307"
     }
    },
    "outputId": "415c9992-3b5d-4d64-ccbd-09cac435d320"
   },
   "source": [
    "# from google.colab import drive\n",
    "# drive.mount('/content/drive')"
   ],
   "execution_count": null,
   "outputs": [
    {
     "output_type": "stream",
     "name": "stdout",
     "text": [
      "Drive already mounted at /content/drive; to attempt to forcibly remount, call drive.mount(\"/content/drive\", force_remount=True).\n"
     ]
    }
   ]
  },
  {
   "cell_type": "code",
   "source": [
    "import torch\n",
    "\n",
    "# If there's a GPU available...\n",
    "if torch.cuda.is_available():    \n",
    "\n",
    "    # Tell PyTorch to use the GPU.    \n",
    "    device = torch.device(\"cuda\")\n",
    "\n",
    "    print('There are %d GPU(s) available.' % torch.cuda.device_count())\n",
    "\n",
    "    print('We will use the GPU:', torch.cuda.get_device_name(0))\n",
    "\n",
    "# If not...\n",
    "else:\n",
    "    print('No GPU available, using the CPU instead.')\n",
    "    device = torch.device(\"cpu\")"
   ],
   "metadata": {
    "colab": {
     "base_uri": "https://localhost:8080/"
    },
    "id": "IZbv0Y9Q85oF",
    "executionInfo": {
     "status": "ok",
     "timestamp": 1675333377148,
     "user_tz": -60,
     "elapsed": 4,
     "user": {
      "displayName": "F.A. Leistra",
      "userId": "17579912925770168307"
     }
    },
    "outputId": "c902335c-fbfe-4f04-86e0-f6c8a33138bd"
   },
   "execution_count": null,
   "outputs": [
    {
     "output_type": "stream",
     "name": "stdout",
     "text": [
      "There are 1 GPU(s) available.\n",
      "We will use the GPU: Tesla T4\n"
     ]
    }
   ]
  },
  {
   "cell_type": "code",
   "metadata": {
    "id": "hl7YK0bimuFr"
   },
   "source": [
    "# Importing all needed libraries for the project\n",
    "#!/usr/bin/env python\n",
    "\n",
    "import numpy as np\n",
    "import tensorflow as tf\n",
    "import random as python_random\n",
    "\n",
    "seeds = [42, 1234, 101, 160, 590]\n",
    "\n",
    "\n",
    "# Make reproducible as much as possible -> should run the experiments with 5 different seeds and report the standard deviations on the scores\n",
    "np.random.seed(seeds[4])\n",
    "tf.random.set_seed(seeds[4])\n",
    "python_random.seed(seeds[4])\n",
    "\n",
    "model_to_use = 'bert-base-uncased'\n",
    "batch_size = 32\n",
    "max_length = 256\n",
    "epochs = 1"
   ],
   "execution_count": null,
   "outputs": []
  },
  {
   "cell_type": "code",
   "metadata": {
    "id": "uu_y6-LnzSVW",
    "executionInfo": {
     "status": "ok",
     "timestamp": 1675333377149,
     "user_tz": -60,
     "elapsed": 4,
     "user": {
      "displayName": "F.A. Leistra",
      "userId": "17579912925770168307"
     }
    },
    "colab": {
     "base_uri": "https://localhost:8080/",
     "height": 337
    },
    "outputId": "6610c014-5435-4e65-99af-637dc54c7178"
   },
   "source": [
    "# Loading all the needed data\n",
    "import pandas as pd\n",
    "\n",
    "train_path = '/data/processed/train.csv'\n",
    "dev_path = '/data/processed/dev.csv'\n",
    "df_train = pd.read_csv(train_path, index_col=0)\n",
    "df_dev = pd.read_csv(dev_path, index_col=0)\n",
    "\n",
    "df_train.head()"
   ],
   "execution_count": null,
   "outputs": [
    {
     "output_type": "execute_result",
     "data": {
      "text/plain": [
       "                           sent  \\\n",
       "0  A \"girl\" is styling her hair   \n",
       "1  A \"girl\" is styling her hair   \n",
       "2  A \"girl\" is styling her hair   \n",
       "3  A \"girl\" is styling her hair   \n",
       "4  A girl is styling her \"hair\"   \n",
       "\n",
       "                                                 sns labels  \\\n",
       "0                                girl: a young woman    Yes   \n",
       "1                     girl: a youthful female person     No   \n",
       "2                     girl: a female human offspring     No   \n",
       "3  girl: a girl or young woman with whom a man is...     No   \n",
       "4  hair: a covering for the body (or parts of it)...    Yes   \n",
       "\n",
       "                                               input    offset  \n",
       "0   A \"girl\" is styling her hair [SEP] a young woman  10129825  \n",
       "1  A \"girl\" is styling her hair [SEP] a youthful ...  10084295  \n",
       "2  A \"girl\" is styling her hair [SEP] a female hu...   9992837  \n",
       "3  A \"girl\" is styling her hair [SEP] a girl or y...  10130686  \n",
       "4  A girl is styling her \"hair\" [SEP] a covering ...   5254795  "
      ],
      "text/html": [
       "\n",
       "  <div id=\"df-1c878693-1e41-483e-a14b-3c2d436d0d46\">\n",
       "    <div class=\"colab-df-container\">\n",
       "      <div>\n",
       "<style scoped>\n",
       "    .dataframe tbody tr th:only-of-type {\n",
       "        vertical-align: middle;\n",
       "    }\n",
       "\n",
       "    .dataframe tbody tr th {\n",
       "        vertical-align: top;\n",
       "    }\n",
       "\n",
       "    .dataframe thead th {\n",
       "        text-align: right;\n",
       "    }\n",
       "</style>\n",
       "<table border=\"1\" class=\"dataframe\">\n",
       "  <thead>\n",
       "    <tr style=\"text-align: right;\">\n",
       "      <th></th>\n",
       "      <th>sent</th>\n",
       "      <th>sns</th>\n",
       "      <th>labels</th>\n",
       "      <th>input</th>\n",
       "      <th>offset</th>\n",
       "    </tr>\n",
       "  </thead>\n",
       "  <tbody>\n",
       "    <tr>\n",
       "      <th>0</th>\n",
       "      <td>A \"girl\" is styling her hair</td>\n",
       "      <td>girl: a young woman</td>\n",
       "      <td>Yes</td>\n",
       "      <td>A \"girl\" is styling her hair [SEP] a young woman</td>\n",
       "      <td>10129825</td>\n",
       "    </tr>\n",
       "    <tr>\n",
       "      <th>1</th>\n",
       "      <td>A \"girl\" is styling her hair</td>\n",
       "      <td>girl: a youthful female person</td>\n",
       "      <td>No</td>\n",
       "      <td>A \"girl\" is styling her hair [SEP] a youthful ...</td>\n",
       "      <td>10084295</td>\n",
       "    </tr>\n",
       "    <tr>\n",
       "      <th>2</th>\n",
       "      <td>A \"girl\" is styling her hair</td>\n",
       "      <td>girl: a female human offspring</td>\n",
       "      <td>No</td>\n",
       "      <td>A \"girl\" is styling her hair [SEP] a female hu...</td>\n",
       "      <td>9992837</td>\n",
       "    </tr>\n",
       "    <tr>\n",
       "      <th>3</th>\n",
       "      <td>A \"girl\" is styling her hair</td>\n",
       "      <td>girl: a girl or young woman with whom a man is...</td>\n",
       "      <td>No</td>\n",
       "      <td>A \"girl\" is styling her hair [SEP] a girl or y...</td>\n",
       "      <td>10130686</td>\n",
       "    </tr>\n",
       "    <tr>\n",
       "      <th>4</th>\n",
       "      <td>A girl is styling her \"hair\"</td>\n",
       "      <td>hair: a covering for the body (or parts of it)...</td>\n",
       "      <td>Yes</td>\n",
       "      <td>A girl is styling her \"hair\" [SEP] a covering ...</td>\n",
       "      <td>5254795</td>\n",
       "    </tr>\n",
       "  </tbody>\n",
       "</table>\n",
       "</div>\n",
       "      <button class=\"colab-df-convert\" onclick=\"convertToInteractive('df-1c878693-1e41-483e-a14b-3c2d436d0d46')\"\n",
       "              title=\"Convert this dataframe to an interactive table.\"\n",
       "              style=\"display:none;\">\n",
       "        \n",
       "  <svg xmlns=\"http://www.w3.org/2000/svg\" height=\"24px\"viewBox=\"0 0 24 24\"\n",
       "       width=\"24px\">\n",
       "    <path d=\"M0 0h24v24H0V0z\" fill=\"none\"/>\n",
       "    <path d=\"M18.56 5.44l.94 2.06.94-2.06 2.06-.94-2.06-.94-.94-2.06-.94 2.06-2.06.94zm-11 1L8.5 8.5l.94-2.06 2.06-.94-2.06-.94L8.5 2.5l-.94 2.06-2.06.94zm10 10l.94 2.06.94-2.06 2.06-.94-2.06-.94-.94-2.06-.94 2.06-2.06.94z\"/><path d=\"M17.41 7.96l-1.37-1.37c-.4-.4-.92-.59-1.43-.59-.52 0-1.04.2-1.43.59L10.3 9.45l-7.72 7.72c-.78.78-.78 2.05 0 2.83L4 21.41c.39.39.9.59 1.41.59.51 0 1.02-.2 1.41-.59l7.78-7.78 2.81-2.81c.8-.78.8-2.07 0-2.86zM5.41 20L4 18.59l7.72-7.72 1.47 1.35L5.41 20z\"/>\n",
       "  </svg>\n",
       "      </button>\n",
       "      \n",
       "  <style>\n",
       "    .colab-df-container {\n",
       "      display:flex;\n",
       "      flex-wrap:wrap;\n",
       "      gap: 12px;\n",
       "    }\n",
       "\n",
       "    .colab-df-convert {\n",
       "      background-color: #E8F0FE;\n",
       "      border: none;\n",
       "      border-radius: 50%;\n",
       "      cursor: pointer;\n",
       "      display: none;\n",
       "      fill: #1967D2;\n",
       "      height: 32px;\n",
       "      padding: 0 0 0 0;\n",
       "      width: 32px;\n",
       "    }\n",
       "\n",
       "    .colab-df-convert:hover {\n",
       "      background-color: #E2EBFA;\n",
       "      box-shadow: 0px 1px 2px rgba(60, 64, 67, 0.3), 0px 1px 3px 1px rgba(60, 64, 67, 0.15);\n",
       "      fill: #174EA6;\n",
       "    }\n",
       "\n",
       "    [theme=dark] .colab-df-convert {\n",
       "      background-color: #3B4455;\n",
       "      fill: #D2E3FC;\n",
       "    }\n",
       "\n",
       "    [theme=dark] .colab-df-convert:hover {\n",
       "      background-color: #434B5C;\n",
       "      box-shadow: 0px 1px 3px 1px rgba(0, 0, 0, 0.15);\n",
       "      filter: drop-shadow(0px 1px 2px rgba(0, 0, 0, 0.3));\n",
       "      fill: #FFFFFF;\n",
       "    }\n",
       "  </style>\n",
       "\n",
       "      <script>\n",
       "        const buttonEl =\n",
       "          document.querySelector('#df-1c878693-1e41-483e-a14b-3c2d436d0d46 button.colab-df-convert');\n",
       "        buttonEl.style.display =\n",
       "          google.colab.kernel.accessAllowed ? 'block' : 'none';\n",
       "\n",
       "        async function convertToInteractive(key) {\n",
       "          const element = document.querySelector('#df-1c878693-1e41-483e-a14b-3c2d436d0d46');\n",
       "          const dataTable =\n",
       "            await google.colab.kernel.invokeFunction('convertToInteractive',\n",
       "                                                     [key], {});\n",
       "          if (!dataTable) return;\n",
       "\n",
       "          const docLinkHtml = 'Like what you see? Visit the ' +\n",
       "            '<a target=\"_blank\" href=https://colab.research.google.com/notebooks/data_table.ipynb>data table notebook</a>'\n",
       "            + ' to learn more about interactive tables.';\n",
       "          element.innerHTML = '';\n",
       "          dataTable['output_type'] = 'display_data';\n",
       "          await google.colab.output.renderOutput(dataTable, element);\n",
       "          const docLink = document.createElement('div');\n",
       "          docLink.innerHTML = docLinkHtml;\n",
       "          element.appendChild(docLink);\n",
       "        }\n",
       "      </script>\n",
       "    </div>\n",
       "  </div>\n",
       "  "
      ]
     },
     "metadata": {},
     "execution_count": 59
    }
   ]
  },
  {
   "cell_type": "code",
   "metadata": {
    "pycharm": {
     "name": "#%%\n"
    },
    "id": "-hMWuuqazSVX"
   },
   "source": [
    "#  Data tokenzier\n",
    "from transformers import AutoTokenizer\n",
    "tokenizer = AutoTokenizer.from_pretrained(model_to_use)\n"
   ],
   "execution_count": null,
   "outputs": []
  },
  {
   "cell_type": "code",
   "source": [
    "#Transform string labels to one-hot encodings\n",
    "from sklearn.preprocessing import LabelBinarizer\n",
    "encoder = LabelBinarizer()\n",
    "Y_train_bin = encoder.fit_transform(df_train['labels'].to_list())  # Use encoder.classes_ to find mapping back\n",
    "Y_dev_bin = encoder.fit_transform(df_dev['labels'].to_list())\n",
    "print(Y_train_bin, type(Y_train_bin))\n",
    "\n",
    "Y_train = np.asarray([[i] for i in df_train['labels'].to_list()])\n",
    "Y_dev = np.asarray([[i] for i in df_dev['labels'].to_list()])\n",
    "print(Y_train)"
   ],
   "metadata": {
    "colab": {
     "base_uri": "https://localhost:8080/"
    },
    "id": "YyQqIIOs42Vv",
    "executionInfo": {
     "status": "ok",
     "timestamp": 1675333378583,
     "user_tz": -60,
     "elapsed": 515,
     "user": {
      "displayName": "F.A. Leistra",
      "userId": "17579912925770168307"
     }
    },
    "outputId": "b0732c90-0ceb-4b6f-a706-06859efc487a"
   },
   "execution_count": null,
   "outputs": [
    {
     "output_type": "stream",
     "name": "stdout",
     "text": [
      "[[1]\n",
      " [0]\n",
      " [0]\n",
      " ...\n",
      " [0]\n",
      " [0]\n",
      " [0]] <class 'numpy.ndarray'>\n",
      "[['Yes']\n",
      " ['No']\n",
      " ['No']\n",
      " ...\n",
      " ['No']\n",
      " ['No']\n",
      " ['No']]\n"
     ]
    }
   ]
  },
  {
   "cell_type": "code",
   "source": [
    "# Tokenize all of the sentences and map the tokens to thier word IDs.\n",
    "input_ids = []\n",
    "attention_masks = []\n",
    "\n",
    "# For every sentence...\n",
    "for sent in df_train['input'].to_list():\n",
    "    # `encode_plus` will:\n",
    "    #   (1) Tokenize the sentence.\n",
    "    #   (2) Prepend the `[CLS]` token to the start.\n",
    "    #   (3) Append the `[SEP]` token to the end.\n",
    "    #   (4) Map tokens to their IDs.\n",
    "    #   (5) Pad or truncate the sentence to `max_length`\n",
    "    #   (6) Create attention masks for [PAD] tokens.\n",
    "    encoded_dict = tokenizer.encode_plus(\n",
    "                        sent,\n",
    "                        add_special_tokens = True, # Add '[CLS]' and '[SEP]'\n",
    "                        max_length = max_length,          # Pad & truncate all sentences.\n",
    "                        padding='max_length',\n",
    "                        return_attention_mask = True,   # Construct attn. masks.\n",
    "                        return_tensors = 'pt',     # Return pytorch tensors.\n",
    "                   )\n",
    "    \n",
    "    # Add the encoded sentence to the list.    \n",
    "    input_ids.append(encoded_dict['input_ids'])\n",
    "    \n",
    "    # And its attention mask (simply differentiates padding from non-padding).\n",
    "    attention_masks.append(encoded_dict['attention_mask'])\n",
    "\n",
    "# Convert the lists into tensors.\n",
    "train_input_ids = torch.cat(input_ids, dim=0)\n",
    "train_attention_masks = torch.cat(attention_masks, dim=0)\n",
    "train_labels = torch.tensor(Y_train_bin)"
   ],
   "metadata": {
    "id": "OBkq5BfE4oAm"
   },
   "execution_count": null,
   "outputs": []
  },
  {
   "cell_type": "code",
   "metadata": {
    "pycharm": {
     "name": "#%%\n"
    },
    "id": "y6NZYlUUzSVY"
   },
   "source": [
    "# Tokenize all of the sentences and map the tokens to thier word IDs.\n",
    "input_ids = []\n",
    "attention_masks = []\n",
    "\n",
    "# For every sentence...\n",
    "for sent in df_dev['input'].to_list():\n",
    "    # `encode_plus` will:\n",
    "    #   (1) Tokenize the sentence.\n",
    "    #   (2) Prepend the `[CLS]` token to the start.\n",
    "    #   (3) Append the `[SEP]` token to the end.\n",
    "    #   (4) Map tokens to their IDs.\n",
    "    #   (5) Pad or truncate the sentence to `max_length`\n",
    "    #   (6) Create attention masks for [PAD] tokens.\n",
    "    encoded_dict = tokenizer.encode_plus(\n",
    "                        sent,\n",
    "                        add_special_tokens = True, # Add '[CLS]' and '[SEP]'\n",
    "                        max_length = max_length,          # Pad & truncate all sentences.\n",
    "                        padding='max_length',\n",
    "                        return_attention_mask = True,   # Construct attn. masks.\n",
    "                        return_tensors = 'pt',     # Return pytorch tensors.\n",
    "                   )\n",
    "    \n",
    "    # Add the encoded sentence to the list.    \n",
    "    input_ids.append(encoded_dict['input_ids'])\n",
    "    \n",
    "    # And its attention mask (simply differentiates padding from non-padding).\n",
    "    attention_masks.append(encoded_dict['attention_mask'])\n",
    "\n",
    "# Convert the lists into tensors.\n",
    "dev_input_ids = torch.cat(input_ids, dim=0)\n",
    "dev_attention_masks = torch.cat(attention_masks, dim=0)\n",
    "dev_labels = torch.tensor(Y_dev_bin)"
   ],
   "execution_count": null,
   "outputs": []
  },
  {
   "cell_type": "code",
   "source": [
    "from torch.utils.data import DataLoader, RandomSampler, SequentialSampler, TensorDataset\n",
    "\n",
    "\n",
    "# Combine the training inputs into a TensorDataset.\n",
    "train_dataset = TensorDataset(train_input_ids, train_attention_masks, train_labels)\n",
    "dev_dataset = TensorDataset(dev_input_ids, dev_attention_masks, dev_labels)\n",
    "\n",
    "# Create the DataLoaders for our training and validation sets.\n",
    "# We'll take training samples in random order. \n",
    "train_dataloader = DataLoader(\n",
    "        train_dataset,  # The training samples.\n",
    "        sampler = SequentialSampler(train_dataset),  # Training data is already randomized\n",
    "        batch_size = batch_size  # Train with this batch size.\n",
    "    )\n",
    "\n",
    "# For validation the order doesn't matter, so we'll just read them sequentially.\n",
    "dev_dataloader = DataLoader(\n",
    "            dev_dataset, # The validation samples.\n",
    "            sampler = SequentialSampler(dev_dataset), # Pull out batches sequentially.\n",
    "            batch_size = batch_size # Evaluate with this batch size.\n",
    "        )"
   ],
   "metadata": {
    "id": "REvMc1b_6NXa"
   },
   "execution_count": null,
   "outputs": []
  },
  {
   "cell_type": "markdown",
   "source": [
    "## Model training"
   ],
   "metadata": {
    "id": "CVVshxW_AalW"
   }
  },
  {
   "cell_type": "code",
   "metadata": {
    "id": "AsqhrYBSj4CL",
    "executionInfo": {
     "status": "ok",
     "timestamp": 1675333405080,
     "user_tz": -60,
     "elapsed": 3401,
     "user": {
      "displayName": "F.A. Leistra",
      "userId": "17579912925770168307"
     }
    },
    "colab": {
     "base_uri": "https://localhost:8080/"
    },
    "outputId": "5625e661-ed36-4633-f3b8-32898d6981ec"
   },
   "source": [
    "from transformers import BertForSequenceClassification, AdamW, get_linear_schedule_with_warmup\n",
    "import torch\n",
    "\n",
    "# Load BertForSequenceClassification, the pretrained BERT model with a single \n",
    "# linear classification layer on top. \n",
    "model = BertForSequenceClassification.from_pretrained(\n",
    "    model_to_use,\n",
    "    num_labels = 2,           \n",
    "    output_attentions = False,      \n",
    "    output_hidden_states = False,  \n",
    ")\n",
    "\n",
    "# Tell pytorch to run this model on the GPU.\n",
    "model.cuda()\n",
    "\n",
    "# Resizes input token embeddings matrix to account for the new special tokens\n",
    "model.resize_token_embeddings(len(tokenizer))"
   ],
   "execution_count": null,
   "outputs": [
    {
     "output_type": "stream",
     "name": "stderr",
     "text": [
      "Some weights of the model checkpoint at bert-base-uncased were not used when initializing BertForSequenceClassification: ['cls.predictions.transform.LayerNorm.weight', 'cls.predictions.transform.dense.weight', 'cls.predictions.decoder.weight', 'cls.seq_relationship.weight', 'cls.predictions.transform.LayerNorm.bias', 'cls.predictions.transform.dense.bias', 'cls.predictions.bias', 'cls.seq_relationship.bias']\n",
      "- This IS expected if you are initializing BertForSequenceClassification from the checkpoint of a model trained on another task or with another architecture (e.g. initializing a BertForSequenceClassification model from a BertForPreTraining model).\n",
      "- This IS NOT expected if you are initializing BertForSequenceClassification from the checkpoint of a model that you expect to be exactly identical (initializing a BertForSequenceClassification model from a BertForSequenceClassification model).\n",
      "Some weights of BertForSequenceClassification were not initialized from the model checkpoint at bert-base-uncased and are newly initialized: ['classifier.weight', 'classifier.bias']\n",
      "You should probably TRAIN this model on a down-stream task to be able to use it for predictions and inference.\n"
     ]
    },
    {
     "output_type": "execute_result",
     "data": {
      "text/plain": [
       "Embedding(30522, 768, padding_idx=0)"
      ]
     },
     "metadata": {},
     "execution_count": 65
    }
   ]
  },
  {
   "cell_type": "code",
   "metadata": {
    "pycharm": {
     "name": "#%%\n"
    },
    "id": "ZaUj2veQzSVb",
    "executionInfo": {
     "status": "ok",
     "timestamp": 1675333405826,
     "user_tz": -60,
     "elapsed": 754,
     "user": {
      "displayName": "F.A. Leistra",
      "userId": "17579912925770168307"
     }
    },
    "colab": {
     "base_uri": "https://localhost:8080/"
    },
    "outputId": "5a2370aa-c756-463d-9a7d-4dfe581ceddd"
   },
   "source": [
    "# Get all of the model's parameters as a list of tuples.\n",
    "params = list(model.named_parameters())\n",
    "\n",
    "print('The BERT model has {:} different named parameters.\\n'.format(len(params)))\n",
    "\n",
    "print('==== Embedding Layer ====\\n')\n",
    "\n",
    "for p in params[0:5]:\n",
    "    print(\"{:<55} {:>12}\".format(p[0], str(tuple(p[1].size()))))\n",
    "\n",
    "print('\\n==== First Transformer ====\\n')\n",
    "\n",
    "for p in params[5:21]:\n",
    "    print(\"{:<55} {:>12}\".format(p[0], str(tuple(p[1].size()))))\n",
    "\n",
    "print('\\n==== Output Layer ====\\n')\n",
    "\n",
    "for p in params[-4:]:\n",
    "    print(\"{:<55} {:>12}\".format(p[0], str(tuple(p[1].size()))))"
   ],
   "execution_count": null,
   "outputs": [
    {
     "output_type": "stream",
     "name": "stdout",
     "text": [
      "The BERT model has 201 different named parameters.\n",
      "\n",
      "==== Embedding Layer ====\n",
      "\n",
      "bert.embeddings.word_embeddings.weight                  (30522, 768)\n",
      "bert.embeddings.position_embeddings.weight                (512, 768)\n",
      "bert.embeddings.token_type_embeddings.weight                (2, 768)\n",
      "bert.embeddings.LayerNorm.weight                              (768,)\n",
      "bert.embeddings.LayerNorm.bias                                (768,)\n",
      "\n",
      "==== First Transformer ====\n",
      "\n",
      "bert.encoder.layer.0.attention.self.query.weight          (768, 768)\n",
      "bert.encoder.layer.0.attention.self.query.bias                (768,)\n",
      "bert.encoder.layer.0.attention.self.key.weight            (768, 768)\n",
      "bert.encoder.layer.0.attention.self.key.bias                  (768,)\n",
      "bert.encoder.layer.0.attention.self.value.weight          (768, 768)\n",
      "bert.encoder.layer.0.attention.self.value.bias                (768,)\n",
      "bert.encoder.layer.0.attention.output.dense.weight        (768, 768)\n",
      "bert.encoder.layer.0.attention.output.dense.bias              (768,)\n",
      "bert.encoder.layer.0.attention.output.LayerNorm.weight        (768,)\n",
      "bert.encoder.layer.0.attention.output.LayerNorm.bias          (768,)\n",
      "bert.encoder.layer.0.intermediate.dense.weight           (3072, 768)\n",
      "bert.encoder.layer.0.intermediate.dense.bias                 (3072,)\n",
      "bert.encoder.layer.0.output.dense.weight                 (768, 3072)\n",
      "bert.encoder.layer.0.output.dense.bias                        (768,)\n",
      "bert.encoder.layer.0.output.LayerNorm.weight                  (768,)\n",
      "bert.encoder.layer.0.output.LayerNorm.bias                    (768,)\n",
      "\n",
      "==== Output Layer ====\n",
      "\n",
      "bert.pooler.dense.weight                                  (768, 768)\n",
      "bert.pooler.dense.bias                                        (768,)\n",
      "classifier.weight                                           (2, 768)\n",
      "classifier.bias                                                 (2,)\n"
     ]
    }
   ]
  },
  {
   "cell_type": "code",
   "metadata": {
    "id": "ExmKPvL9rs3S",
    "executionInfo": {
     "status": "ok",
     "timestamp": 1675333405827,
     "user_tz": -60,
     "elapsed": 10,
     "user": {
      "displayName": "F.A. Leistra",
      "userId": "17579912925770168307"
     }
    },
    "colab": {
     "base_uri": "https://localhost:8080/"
    },
    "outputId": "900703fb-327f-45b0-a079-3491647ab68b"
   },
   "source": [
    "\n",
    "optimizer = AdamW(model.parameters(),\n",
    "                  lr = 2e-5,\n",
    "                  eps = 1e-8\n",
    "                )\n",
    "\n",
    "from transformers import get_linear_schedule_with_warmup\n",
    "\n",
    "# Total number of training steps is [number of batches] x [number of epochs]. \n",
    "# (Note that this is not the same as the number of training samples).\n",
    "total_steps = len(train_dataloader) * epochs\n",
    "\n",
    "# Create the learning rate scheduler.\n",
    "scheduler = get_linear_schedule_with_warmup(optimizer, \n",
    "                                            num_warmup_steps = 0, # Default value in run_glue.py\n",
    "                                            num_training_steps = total_steps)"
   ],
   "execution_count": null,
   "outputs": [
    {
     "output_type": "stream",
     "name": "stderr",
     "text": [
      "/usr/local/lib/python3.8/dist-packages/transformers/optimization.py:306: FutureWarning: This implementation of AdamW is deprecated and will be removed in a future version. Use the PyTorch implementation torch.optim.AdamW instead, or set `no_deprecation_warning=True` to disable this warning\n",
      "  warnings.warn(\n"
     ]
    }
   ]
  },
  {
   "cell_type": "markdown",
   "source": [
    "# Train"
   ],
   "metadata": {
    "id": "pAh93xCQCMGp"
   }
  },
  {
   "cell_type": "code",
   "source": [
    "import numpy as np\n",
    "\n",
    "# Function to calculate the accuracy of our predictions vs labels\n",
    "def flat_accuracy(preds, labels):\n",
    "    pred_flat = np.argmax(preds, axis=1).flatten()\n",
    "    labels_flat = labels.flatten()\n",
    "    return np.sum(pred_flat == labels_flat) / len(labels_flat)"
   ],
   "metadata": {
    "id": "T2Qa1wnpCQhW"
   },
   "execution_count": null,
   "outputs": []
  },
  {
   "cell_type": "code",
   "source": [
    "import time\n",
    "import datetime\n",
    "\n",
    "def format_time(elapsed):\n",
    "    '''\n",
    "    Takes a time in seconds and returns a string hh:mm:ss\n",
    "    '''\n",
    "    # Round to the nearest second.\n",
    "    elapsed_rounded = int(round((elapsed)))\n",
    "    \n",
    "    # Format as hh:mm:ss\n",
    "    return str(datetime.timedelta(seconds=elapsed_rounded))"
   ],
   "metadata": {
    "id": "xkHzNcVpCURc"
   },
   "execution_count": null,
   "outputs": []
  },
  {
   "cell_type": "code",
   "source": [
    "from torch._C import ListType\n",
    "from traitlets.traitlets import default\n",
    "import random\n",
    "import numpy as np\n",
    "import os\n",
    "import glob\n",
    "from collections import defaultdict\n",
    "\n",
    "predictions, true_labels = defaultdict(list), defaultdict(list)\n",
    "val_losses = {}\n",
    "\n",
    "# Set the seed value all over the place to make this reproducible.\n",
    "seed_val = 42\n",
    "\n",
    "random.seed(seed_val)\n",
    "np.random.seed(seed_val)\n",
    "torch.manual_seed(seed_val)\n",
    "torch.cuda.manual_seed_all(seed_val)\n",
    "\n",
    "# We'll store a number of quantities such as training and validation loss, \n",
    "# validation accuracy, and timings.\n",
    "training_stats = []\n",
    "    \n",
    "# Measure the total training time for the whole run.\n",
    "total_t0 = time.time()\n",
    "\n",
    "# For each epoch...\n",
    "for epoch_i in range(0, epochs):\n",
    "\n",
    "    # ========================================\n",
    "    #               Training\n",
    "    # ========================================\n",
    "    \n",
    "    # Perform one full pass over the training set.\n",
    "\n",
    "    print(\"\")\n",
    "    print('======== Epoch {:} / {:} ========'.format(epoch_i + 1, epochs))\n",
    "    print('Training...')\n",
    "\n",
    "    # Measure how long the training epoch takes.\n",
    "    t0 = time.time()\n",
    "\n",
    "    # Reset the total loss for this epoch.\n",
    "    total_train_loss = 0\n",
    "\n",
    "    model.train()\n",
    "\n",
    "    # For each batch of training data...\n",
    "    for step, batch in enumerate(train_dataloader):\n",
    "\n",
    "        # Progress update every 40 batches.\n",
    "        if step % 40 == 0 and not step == 0:\n",
    "            # Calculate elapsed time in minutes.\n",
    "            elapsed = format_time(time.time() - t0)\n",
    "            \n",
    "            # Report progress.\n",
    "            print('  Batch {:>5,}  of  {:>5,}.    Elapsed: {:}.'.format(step, len(train_dataloader), elapsed))\n",
    "\n",
    "        # Unpack this training batch from our dataloader. \n",
    "        #\n",
    "        # As we unpack the batch, we'll also copy each tensor to the GPU using the \n",
    "        # `to` method.\n",
    "        #\n",
    "        # `batch` contains four pytorch tensors:\n",
    "        #   [0]: input ids \n",
    "        #   [1]: attention masks\n",
    "        #   [2]: labels \n",
    "        #   [3]: tweet ids\n",
    "        b_input_ids = batch[0].to(device)\n",
    "        b_input_mask = batch[1].to(device)\n",
    "        b_labels = batch[2].to(device)\n",
    "\n",
    "        # Always clear any previously calculated gradients before performing a\n",
    "        # backward pass. PyTorch doesn't do this automatically because \n",
    "        # accumulating the gradients is \"convenient while training RNNs\". \n",
    "        # (source: https://stackoverflow.com/questions/48001598/why-do-we-need-to-call-zero-grad-in-pytorch)\n",
    "        model.zero_grad()        \n",
    "\n",
    "        # Perform a forward pass (evaluate the model on this training batch).\n",
    "        # In PyTorch, calling `model` will in turn call the model's `forward` \n",
    "        # function and pass down the arguments. The `forward` function is \n",
    "        # documented here: \n",
    "        # https://huggingface.co/transformers/model_doc/bert.html#bertforsequenceclassification\n",
    "        # The results are returned in a results object, documented here:\n",
    "        # https://huggingface.co/transformers/main_classes/output.html#transformers.modeling_outputs.SequenceClassifierOutput\n",
    "        # Specifically, we'll get the loss (because we provided labels) and the\n",
    "        # \"logits\"--the model outputs prior to activation.\n",
    "        result = model(b_input_ids, \n",
    "                       token_type_ids=None, \n",
    "                       attention_mask=b_input_mask, \n",
    "                       labels=b_labels,\n",
    "                       return_dict=True)\n",
    "\n",
    "        loss = result.loss\n",
    "        logits = result.logits\n",
    "        \n",
    "        # 'logits' is a 2D tensor with lists of logit lists\n",
    "        # 'b_labels' is a 1D tensor of the true label\n",
    "        # 'b_ids' is a 1D tensor of the tweet IDs\n",
    "\n",
    "        # Accumulate the training loss over all of the batches so that we can\n",
    "        # calculate the average loss at the end. `loss` is a Tensor containing a\n",
    "        # single value; the `.item()` function just returns the Python value \n",
    "        # from the tensor.\n",
    "        total_train_loss += loss.item()\n",
    "\n",
    "        # Perform a backward pass to calculate the gradients.\n",
    "        loss.backward()\n",
    "\n",
    "        # Clip the norm of the gradients to 1.0.\n",
    "        # This is to help prevent the \"exploding gradients\" problem.\n",
    "        torch.nn.utils.clip_grad_norm_(model.parameters(), 1.0)\n",
    "\n",
    "        # Update parameters and take a step using the computed gradient.\n",
    "        # The optimizer dictates the \"update rule\"--how the parameters are\n",
    "        # modified based on their gradients, the learning rate, etc.\n",
    "        optimizer.step()\n",
    "\n",
    "        # Update the learning rate.\n",
    "        scheduler.step()\n",
    "\n",
    "    # Calculate the average loss over all of the batches.\n",
    "    avg_train_loss = total_train_loss / len(train_dataloader)            \n",
    "    \n",
    "    # Measure how long this epoch took.\n",
    "    training_time = format_time(time.time() - t0)\n",
    "\n",
    "    print(\"\")\n",
    "    print(\"  Average training loss: {0:.3f}\".format(avg_train_loss))\n",
    "    print(\"  Training epoch took: {:}\".format(training_time))\n",
    "\n",
    "    # ========================================\n",
    "    #               Validation\n",
    "    # ========================================\n",
    "    # After the completion of each training epoch, measure our performance on\n",
    "    # our validation set.\n",
    "\n",
    "    print(\"\")\n",
    "    print(\"Running Validation...\")\n",
    "\n",
    "    t0 = time.time()\n",
    "\n",
    "    # Put the model in evaluation mode--the dropout layers behave differently\n",
    "    # during evaluation.\n",
    "    model.eval()\n",
    "\n",
    "    # Tracking variables \n",
    "    total_eval_accuracy = 0\n",
    "    total_eval_loss = 0\n",
    "    nb_eval_steps = 0\n",
    "\n",
    "    # Evaluate data for one epoch\n",
    "    for batch in dev_dataloader:\n",
    "        \n",
    "        # Unpack this training batch from our dataloader. \n",
    "        #\n",
    "        # As we unpack the batch, we'll also copy each tensor to the GPU using \n",
    "        # the `to` method.\n",
    "        #\n",
    "        # `batch` contains three pytorch tensors:\n",
    "        #   [0]: input ids \n",
    "        #   [1]: attention masks\n",
    "        #   [2]: labels \n",
    "        #   [3]: tweet ids\n",
    "        b_input_ids = batch[0].to(device)\n",
    "        b_input_mask = batch[1].to(device)\n",
    "        b_labels = batch[2].to(device)\n",
    "        \n",
    "        # Tell pytorch not to bother with constructing the compute graph during\n",
    "        # the forward pass, since this is only needed for backprop (training).\n",
    "        with torch.no_grad():        \n",
    "\n",
    "            # Forward pass, calculate logit predictions.\n",
    "            # token_type_ids is the same as the \"segment ids\", which \n",
    "            # differentiates sentence 1 and 2 in 2-sentence tasks.\n",
    "            result = model(b_input_ids, \n",
    "                           token_type_ids=None, \n",
    "                           attention_mask=b_input_mask,\n",
    "                           labels=b_labels,\n",
    "                           return_dict=True)\n",
    "\n",
    "        # Get the loss and \"logits\" output by the model. The \"logits\" are the \n",
    "        # output values prior to applying an activation function like the \n",
    "        # softmax.\n",
    "        loss = result.loss\n",
    "        logits = result.logits\n",
    "            \n",
    "        # Accumulate the validation loss.\n",
    "        total_eval_loss += loss.item()\n",
    "\n",
    "        # Move logits and labels to CPU\n",
    "        logits = logits.detach().cpu().numpy()\n",
    "        label_ids = b_labels.to('cpu').numpy()\n",
    "        \n",
    "        # dit overschrijft nu, maar moet append zijn #TODO\n",
    "        true_labels[epoch_i].append(label_ids)\n",
    "        predictions[epoch_i].append(logits)\n",
    "\n",
    "        # Calculate the accuracy for this batch of test sentences, and\n",
    "        # accumulate it over all batches.\n",
    "        total_eval_accuracy += flat_accuracy(logits, label_ids)\n",
    "\n",
    "    # Report the final accuracy for this validation run.\n",
    "    avg_val_accuracy = total_eval_accuracy / len(dev_dataloader)\n",
    "    print(\"  Accuracy: {0:.3f}\".format(avg_val_accuracy))\n",
    "\n",
    "    # Calculate the average loss over all of the batches.\n",
    "    avg_val_loss = total_eval_loss / len(dev_dataloader)\n",
    "    val_losses[epoch_i] = avg_val_loss\n",
    "\n",
    "    # If the avg_val_loss is lower than the previous recorded, save to dict\n",
    "    \n",
    "    # Measure how long the validation run took.\n",
    "    validation_time = format_time(time.time() - t0)\n",
    "    \n",
    "    print(\"  Validation Loss: {0:.3f}\".format(avg_val_loss))\n",
    "    print(\"  Validation took: {:}\".format(validation_time))\n",
    "\n",
    "    # Record all statistics from this epoch.\n",
    "    training_stats.append(\n",
    "        {\n",
    "            'epoch': epoch_i + 1,\n",
    "            'Training Loss': avg_train_loss,\n",
    "            'Valid. Loss': avg_val_loss,\n",
    "            'Valid. Accur.': avg_val_accuracy,\n",
    "            'Training Time': training_time,\n",
    "            'Validation Time': validation_time\n",
    "        }\n",
    "    )\n",
    "\n",
    "print(\"\")\n",
    "print(\"Training complete!\")\n",
    "\n",
    "print(\"Total training took {:} (h:mm:ss)\".format(format_time(time.time()-total_t0)))\n"
   ],
   "metadata": {
    "colab": {
     "base_uri": "https://localhost:8080/"
    },
    "id": "-UKY_SI3CZAh",
    "outputId": "94360268-26c8-48de-8096-3aa216ca56e5",
    "executionInfo": {
     "status": "ok",
     "timestamp": 1675335919053,
     "user_tz": -60,
     "elapsed": 2513233,
     "user": {
      "displayName": "F.A. Leistra",
      "userId": "17579912925770168307"
     }
    }
   },
   "execution_count": null,
   "outputs": [
    {
     "output_type": "stream",
     "name": "stdout",
     "text": [
      "\n",
      "======== Epoch 1 / 1 ========\n",
      "Training...\n",
      "  Batch    40  of  1,764.    Elapsed: 0:00:47.\n",
      "  Batch    80  of  1,764.    Elapsed: 0:01:35.\n",
      "  Batch   120  of  1,764.    Elapsed: 0:02:24.\n",
      "  Batch   160  of  1,764.    Elapsed: 0:03:14.\n",
      "  Batch   200  of  1,764.    Elapsed: 0:04:05.\n",
      "  Batch   240  of  1,764.    Elapsed: 0:04:57.\n",
      "  Batch   280  of  1,764.    Elapsed: 0:05:49.\n",
      "  Batch   320  of  1,764.    Elapsed: 0:06:41.\n",
      "  Batch   360  of  1,764.    Elapsed: 0:07:33.\n",
      "  Batch   400  of  1,764.    Elapsed: 0:08:25.\n",
      "  Batch   440  of  1,764.    Elapsed: 0:09:17.\n",
      "  Batch   480  of  1,764.    Elapsed: 0:10:09.\n",
      "  Batch   520  of  1,764.    Elapsed: 0:11:01.\n",
      "  Batch   560  of  1,764.    Elapsed: 0:11:53.\n",
      "  Batch   600  of  1,764.    Elapsed: 0:12:45.\n",
      "  Batch   640  of  1,764.    Elapsed: 0:13:37.\n",
      "  Batch   680  of  1,764.    Elapsed: 0:14:29.\n",
      "  Batch   720  of  1,764.    Elapsed: 0:15:21.\n",
      "  Batch   760  of  1,764.    Elapsed: 0:16:12.\n",
      "  Batch   800  of  1,764.    Elapsed: 0:17:04.\n",
      "  Batch   840  of  1,764.    Elapsed: 0:17:56.\n",
      "  Batch   880  of  1,764.    Elapsed: 0:18:48.\n",
      "  Batch   920  of  1,764.    Elapsed: 0:19:40.\n",
      "  Batch   960  of  1,764.    Elapsed: 0:20:33.\n",
      "  Batch 1,000  of  1,764.    Elapsed: 0:21:25.\n",
      "  Batch 1,040  of  1,764.    Elapsed: 0:22:17.\n",
      "  Batch 1,080  of  1,764.    Elapsed: 0:23:09.\n",
      "  Batch 1,120  of  1,764.    Elapsed: 0:24:00.\n",
      "  Batch 1,160  of  1,764.    Elapsed: 0:24:52.\n",
      "  Batch 1,200  of  1,764.    Elapsed: 0:25:44.\n",
      "  Batch 1,240  of  1,764.    Elapsed: 0:26:36.\n",
      "  Batch 1,280  of  1,764.    Elapsed: 0:27:28.\n",
      "  Batch 1,320  of  1,764.    Elapsed: 0:28:20.\n",
      "  Batch 1,360  of  1,764.    Elapsed: 0:29:12.\n",
      "  Batch 1,400  of  1,764.    Elapsed: 0:30:04.\n",
      "  Batch 1,440  of  1,764.    Elapsed: 0:30:56.\n",
      "  Batch 1,480  of  1,764.    Elapsed: 0:31:48.\n",
      "  Batch 1,520  of  1,764.    Elapsed: 0:32:40.\n",
      "  Batch 1,560  of  1,764.    Elapsed: 0:33:31.\n",
      "  Batch 1,600  of  1,764.    Elapsed: 0:34:23.\n",
      "  Batch 1,640  of  1,764.    Elapsed: 0:35:15.\n",
      "  Batch 1,680  of  1,764.    Elapsed: 0:36:07.\n",
      "  Batch 1,720  of  1,764.    Elapsed: 0:36:59.\n",
      "  Batch 1,760  of  1,764.    Elapsed: 0:37:50.\n",
      "\n",
      "  Average training loss: 0.309\n",
      "  Training epoch took: 0:37:55\n",
      "\n",
      "Running Validation...\n",
      "  Accuracy: 0.892\n",
      "  Validation Loss: 0.260\n",
      "  Validation took: 0:03:59\n",
      "\n",
      "Training complete!\n",
      "Total training took 0:41:53 (h:mm:ss)\n"
     ]
    }
   ]
  },
  {
   "cell_type": "code",
   "source": [
    "import pandas as pd\n",
    "\n",
    "# Display floats with three decimal places.\n",
    "pd.set_option('precision', 3)\n",
    "\n",
    "# Create a DataFrame from our training statistics.\n",
    "df_stats = pd.DataFrame(data=training_stats)\n",
    "\n",
    "# Use the 'epoch' as the row index.\n",
    "df_stats = df_stats.set_index('epoch')\n",
    "\n",
    "# A hack to force the column headers to wrap.\n",
    "#df = df.style.set_table_styles([dict(selector=\"th\",props=[('max-width', '70px')])])\n",
    "\n",
    "# Display the table.\n",
    "print(df_stats)\n",
    "\n",
    "best_val_loss  = min(val_losses, key=val_losses. get)\n",
    "print(best_val_loss)"
   ],
   "metadata": {
    "id": "VfU2Ks0CC2wV",
    "colab": {
     "base_uri": "https://localhost:8080/"
    },
    "executionInfo": {
     "status": "ok",
     "timestamp": 1675335919053,
     "user_tz": -60,
     "elapsed": 15,
     "user": {
      "displayName": "F.A. Leistra",
      "userId": "17579912925770168307"
     }
    },
    "outputId": "27fd9738-3eef-40d8-8e5b-04ba047ae25b"
   },
   "execution_count": null,
   "outputs": [
    {
     "output_type": "stream",
     "name": "stdout",
     "text": [
      "       Training Loss  Valid. Loss  Valid. Accur. Training Time Validation Time\n",
      "epoch                                                                         \n",
      "1              0.309         0.26          0.892       0:37:55         0:03:59\n",
      "0\n"
     ]
    }
   ]
  },
  {
   "cell_type": "code",
   "source": [
    "import matplotlib.pyplot as plt\n",
    "#% matplotlib inline\n",
    "\n",
    "import seaborn as sns\n",
    "\n",
    "# Use plot styling from seaborn.\n",
    "sns.set(style='darkgrid')\n",
    "\n",
    "# Increase the plot size and font size.\n",
    "sns.set(font_scale=1.5)\n",
    "plt.rcParams[\"figure.figsize\"] = (12,6)\n",
    "\n",
    "# Plot the learning curve.\n",
    "plt.plot(df_stats['Training Loss'], 'b-o', label=\"Training\")\n",
    "plt.plot(df_stats['Valid. Loss'], 'g-o', label=\"Validation\")\n",
    "\n",
    "# Label the plot.\n",
    "plt.title(\"Training & Validation Loss\")\n",
    "plt.xlabel(\"Epoch\")\n",
    "plt.ylabel(\"Loss\")\n",
    "plt.legend()\n",
    "plt.xticks(list(range(1, epochs + 1)))\n",
    "\n",
    "#plt.show()\n"
   ],
   "metadata": {
    "id": "Z_oCYJpTEttC",
    "colab": {
     "base_uri": "https://localhost:8080/",
     "height": 464
    },
    "executionInfo": {
     "status": "ok",
     "timestamp": 1675335919053,
     "user_tz": -60,
     "elapsed": 9,
     "user": {
      "displayName": "F.A. Leistra",
      "userId": "17579912925770168307"
     }
    },
    "outputId": "dae61ac8-d70f-4dd5-c97f-83670fc79091"
   },
   "execution_count": null,
   "outputs": [
    {
     "output_type": "execute_result",
     "data": {
      "text/plain": [
       "([<matplotlib.axis.XTick at 0x7fcd44419220>],\n",
       " <a list of 1 Text major ticklabel objects>)"
      ]
     },
     "metadata": {},
     "execution_count": 72
    },
    {
     "output_type": "display_data",
     "data": {
      "text/plain": [
       "<Figure size 864x432 with 1 Axes>"
      ],
      "image/png": "[encoded data removed]"
     },
     "metadata": {}
    }
   ]
  },
  {
   "cell_type": "markdown",
   "source": [],
   "metadata": {
    "id": "GVGnMabEK3EJ"
   }
  },
  {
   "cell_type": "code",
   "source": [
    "# Combine the results across all batches. \n",
    "flat_predictions = np.concatenate(predictions[best_val_loss], axis=0)\n",
    "\n",
    "# For each sample, pick the label (0 or 1) with the higher score.\n",
    "flat_predictions = np.argmax(flat_predictions, axis=1).flatten()\n",
    "\n",
    "# Combine the correct labels for each batch into a single list.\n",
    "flat_true_labels = np.concatenate(true_labels[best_val_loss], axis=0)"
   ],
   "metadata": {
    "id": "Qb-7YtIjE_f9"
   },
   "execution_count": null,
   "outputs": []
  },
  {
   "cell_type": "code",
   "source": [
    "from sklearn.metrics import classification_report\n",
    "\n",
    "print(classification_report(flat_true_labels, flat_predictions, digits=4))"
   ],
   "metadata": {
    "id": "x00SFHEOE7q-",
    "colab": {
     "base_uri": "https://localhost:8080/"
    },
    "executionInfo": {
     "status": "ok",
     "timestamp": 1675335919054,
     "user_tz": -60,
     "elapsed": 7,
     "user": {
      "displayName": "F.A. Leistra",
      "userId": "17579912925770168307"
     }
    },
    "outputId": "17597701-6adf-4995-e8e0-d1dfc0660419"
   },
   "execution_count": null,
   "outputs": [
    {
     "output_type": "stream",
     "name": "stdout",
     "text": [
      "              precision    recall  f1-score   support\n",
      "\n",
      "           0     0.9402    0.9169    0.9284     11555\n",
      "           1     0.7489    0.8094    0.7780      3537\n",
      "\n",
      "    accuracy                         0.8917     15092\n",
      "   macro avg     0.8445    0.8632    0.8532     15092\n",
      "weighted avg     0.8954    0.8917    0.8932     15092\n",
      "\n"
     ]
    }
   ]
  },
  {
   "cell_type": "code",
   "source": [
    "seed_0_clas = classification_report(flat_true_labels, flat_predictions, digits=4)"
   ],
   "metadata": {
    "id": "jYVtB7uBB8xh"
   },
   "execution_count": null,
   "outputs": []
  },
  {
   "cell_type": "code",
   "source": [
    "# Tokenize all of the sentences and map the tokens to thier word IDs.\n",
    "input_ids = []\n",
    "attention_masks = []\n",
    "test_path = '/data/processed/test.csv'\n",
    "df_test = pd.read_csv(test_path, index_col=0)\n",
    "Y_test_bin = encoder.fit_transform(df_test['labels'].to_list())  # Use encoder.classes_ to find mapping back\n",
    "Y_test = np.asarray([[i] for i in df_test['labels'].to_list()])\n",
    "\n",
    "# For every sentence...\n",
    "for sent in df_test['input'].to_list():\n",
    "    # `encode_plus` will:\n",
    "    #   (1) Tokenize the sentence.\n",
    "    #   (2) Prepend the `[CLS]` token to the start.\n",
    "    #   (3) Append the `[SEP]` token to the end.\n",
    "    #   (4) Map tokens to their IDs.\n",
    "    #   (5) Pad or truncate the sentence to `max_length`\n",
    "    #   (6) Create attention masks for [PAD] tokens.\n",
    "    encoded_dict = tokenizer.encode_plus(\n",
    "                        sent,\n",
    "                        add_special_tokens = True, # Add '[CLS]' and '[SEP]'\n",
    "                        max_length = max_length,          # Pad & truncate all sentences.\n",
    "                        padding='max_length',\n",
    "                        return_attention_mask = True,   # Construct attn. masks.\n",
    "                        return_tensors = 'pt',     # Return pytorch tensors.\n",
    "                   )\n",
    "    \n",
    "    # Add the encoded sentence to the list.    \n",
    "    input_ids.append(encoded_dict['input_ids'])\n",
    "    \n",
    "    # And its attention mask (simply differentiates padding from non-padding).\n",
    "    attention_masks.append(encoded_dict['attention_mask'])\n",
    "\n",
    "# Convert the lists into tensors.\n",
    "test_input_ids = torch.cat(input_ids, dim=0)\n",
    "test_attention_masks = torch.cat(attention_masks, dim=0)\n",
    "test_labels = torch.tensor(Y_test_bin)"
   ],
   "metadata": {
    "id": "a_sM8TTEqse4"
   },
   "execution_count": null,
   "outputs": []
  },
  {
   "cell_type": "code",
   "source": [
    "# Combine the training inputs into a TensorDataset.\n",
    "test_dataset = TensorDataset(test_input_ids, test_attention_masks, test_labels)\n",
    "\n",
    "\n",
    "# For validation the order doesn't matter, so we'll just read them sequentially.\n",
    "test_dataloader = DataLoader(\n",
    "            test_dataset, # The validation samples.\n",
    "            sampler = SequentialSampler(test_dataset), # Pull out batches sequentially.\n",
    "            batch_size = batch_size # Evaluate with this batch size.\n",
    "        )"
   ],
   "metadata": {
    "id": "Kl1mgTuksqur"
   },
   "execution_count": null,
   "outputs": []
  },
  {
   "cell_type": "code",
   "source": [
    " # Put the model in evaluation mode--the dropout layers behave differently\n",
    "# during evaluation.\n",
    "model.eval()\n",
    "\n",
    "# Tracking variables \n",
    "total_eval_accuracy = 0\n",
    "total_eval_loss = 0\n",
    "nb_eval_steps = 0\n",
    "true_labels = []\n",
    "predictions = []\n",
    "\n",
    "# Evaluate data for one epoch\n",
    "for batch in test_dataloader:\n",
    "    \n",
    "    # Unpack this training batch from our dataloader. \n",
    "    #\n",
    "    # As we unpack the batch, we'll also copy each tensor to the GPU using \n",
    "    # the `to` method.\n",
    "    #\n",
    "    # `batch` contains three pytorch tensors:\n",
    "    #   [0]: input ids \n",
    "    #   [1]: attention masks\n",
    "    #   [2]: labels \n",
    "    #   [3]: tweet ids\n",
    "    b_input_ids = batch[0].to(device)\n",
    "    b_input_mask = batch[1].to(device)\n",
    "    b_labels = batch[2].to(device)\n",
    "    \n",
    "    # Tell pytorch not to bother with constructing the compute graph during\n",
    "    # the forward pass, since this is only needed for backprop (training).\n",
    "    with torch.no_grad():        \n",
    "\n",
    "        # Forward pass, calculate logit predictions.\n",
    "        # token_type_ids is the same as the \"segment ids\", which \n",
    "        # differentiates sentence 1 and 2 in 2-sentence tasks.\n",
    "        result = model(b_input_ids, \n",
    "                        token_type_ids=None, \n",
    "                        attention_mask=b_input_mask,\n",
    "                        labels=b_labels,\n",
    "                        return_dict=True)\n",
    "\n",
    "    # Get the loss and \"logits\" output by the model. The \"logits\" are the \n",
    "    # output values prior to applying an activation function like the \n",
    "    # softmax.\n",
    "    loss = result.loss\n",
    "    logits = result.logits\n",
    "        \n",
    "    # Accumulate the validation loss.\n",
    "    total_eval_loss += loss.item()\n",
    "\n",
    "    # Move logits and labels to CPU\n",
    "    logits = logits.detach().cpu().numpy()\n",
    "    label_ids = b_labels.to('cpu').numpy()\n",
    "    \n",
    "    # dit overschrijft nu, maar moet append zijn #TODO\n",
    "    true_labels.append(label_ids)\n",
    "    predictions.append(logits)\n",
    "\n",
    "    # Calculate the accuracy for this batch of test sentences, and\n",
    "    # accumulate it over all batches.\n",
    "    total_eval_accuracy += flat_accuracy(logits, label_ids)\n",
    "\n",
    "# Report the final accuracy for this validation run.\n",
    "avg_val_accuracy = total_eval_accuracy / len(dev_dataloader)\n",
    "print(\"  Accuracy: {0:.3f}\".format(avg_val_accuracy))\n",
    "\n",
    "# Calculate the average loss over all of the batches.\n",
    "avg_val_loss = total_eval_loss / len(dev_dataloader)\n",
    "val_losses[epoch_i] = avg_val_loss\n",
    "\n",
    "# If the avg_val_loss is lower than the previous recorded, save to dict\n",
    "\n",
    "# Measure how long the validation run took.\n",
    "validation_time = format_time(time.time() - t0)\n",
    "\n",
    "print(\"  Validation Loss: {0:.3f}\".format(avg_val_loss))\n",
    "print(\"  Validation took: {:}\".format(validation_time))"
   ],
   "metadata": {
    "id": "XYjNYyRTs8BE",
    "colab": {
     "base_uri": "https://localhost:8080/"
    },
    "executionInfo": {
     "status": "ok",
     "timestamp": 1675336045828,
     "user_tz": -60,
     "elapsed": 125273,
     "user": {
      "displayName": "F.A. Leistra",
      "userId": "17579912925770168307"
     }
    },
    "outputId": "cae9770f-1ffa-4922-f8f4-7f4fb8bc0eeb"
   },
   "execution_count": null,
   "outputs": [
    {
     "output_type": "stream",
     "name": "stdout",
     "text": [
      "  Accuracy: 0.476\n",
      "  Validation Loss: 0.122\n",
      "  Validation took: 0:06:06\n"
     ]
    }
   ]
  },
  {
   "cell_type": "code",
   "source": [
    "# Combine the results across all batches. \n",
    "flat_predictions = np.concatenate(predictions, axis=0)\n",
    "\n",
    "# For each sample, pick the label (0 or 1) with the higher score.\n",
    "flat_predictions = np.argmax(flat_predictions, axis=1).flatten()\n",
    "\n",
    "# Combine the correct labels for each batch into a single list.\n",
    "flat_true_labels = np.concatenate(true_labels, axis=0)\n",
    "\n",
    "\n",
    "print(classification_report(flat_true_labels, flat_predictions, digits=4))"
   ],
   "metadata": {
    "id": "bQ_RSyL9db4-",
    "colab": {
     "base_uri": "https://localhost:8080/"
    },
    "executionInfo": {
     "status": "ok",
     "timestamp": 1675336045829,
     "user_tz": -60,
     "elapsed": 13,
     "user": {
      "displayName": "F.A. Leistra",
      "userId": "17579912925770168307"
     }
    },
    "outputId": "b8faccc2-0b76-4e64-afc6-b56c8188bbc5"
   },
   "execution_count": null,
   "outputs": [
    {
     "output_type": "stream",
     "name": "stdout",
     "text": [
      "              precision    recall  f1-score   support\n",
      "\n",
      "           0     0.9473    0.9231    0.9350      6071\n",
      "           1     0.7690    0.8329    0.7997      1867\n",
      "\n",
      "    accuracy                         0.9019      7938\n",
      "   macro avg     0.8582    0.8780    0.8674      7938\n",
      "weighted avg     0.9053    0.9019    0.9032      7938\n",
      "\n"
     ]
    }
   ]
  }
 ]
}